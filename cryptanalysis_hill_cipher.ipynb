{
 "cells": [
  {
   "cell_type": "code",
   "execution_count": 1,
   "metadata": {},
   "outputs": [],
   "source": [
    "import numpy as np\n",
    "import math\n",
    "import string\n",
    "from sympy import Matrix, pprint"
   ]
  },
  {
   "cell_type": "code",
   "execution_count": 23,
   "metadata": {},
   "outputs": [
    {
     "name": "stdout",
     "output_type": "stream",
     "text": [
      "the electron is a subatomic particle symbol  e  or    whose electric charge is negative one elementary charge electrons belong to the first generation of the lepton particle family and are generally thought to be elementary particles because they have no known components or substructure the electron has a mass that is approximately  that of the proton quantum mechanical properties of the electron include an intrinsic angular momentum spin of a halfinteger value expressed in units of the reduced planck constant  being fermions no two electrons can occupy the same quantum state in accordance with the pauli exclusion principle like all elementary particles electrons exhibit properties of both particles and waves they can collide with other particles and can be diffracted like light the wave properties of electrons are easier to observe with experiments than those of other particles like neutrons and protons because electrons have a lower mass and hence a longer de broglie wavelength for a given energy  electrons play an essential role in numerous physical phenomena such as electricity magnetism chemistry and thermal conductivity and they also participate in gravitational electromagnetic and weak interactions since an electron has charge it has a surrounding electric field and if that electron is moving relative to an observer said observer will observe it to generate a magnetic field electromagnetic fields produced from other sources will affect the motion of an electron according to the lorentz force law electrons radiate or absorb energy in the form of photons when they are accelerated laboratory instruments are capable of trapping individual electrons as well as electron plasma by the use of electromagnetic fields special telescopes can detect electron plasma in outer space electrons are involved in many applications such as electronics welding cathode ray tubes electron microscopes radiation therapy lasers gaseous ionization detectors and particle accelerators  interactions involving electrons with other subatomic particles are of interest in fields such as chemistry and nuclear physics the coulomb force interaction between the positive protons within atomic nuclei and the negative electrons without allows the composition of the two known as atoms ionization or differences in the proportions of negative electrons versus positive nuclei changes the binding energy of an atomic system the exchange or sharing of the electrons between two or more atoms is the main cause of chemical bonding in  british natural philosopher richard laming first hypothesized the concept of an indivisible quantity of electric charge to explain the chemical properties of atoms irish physicist george johnstone stoney named this charge electron in  and j j thomson and his team of british physicists identified it as a particle in  electrons can also participate in nuclear reactions such as nucleosynthesis in stars where they are known as beta particles electrons can be created through beta decay of radioactive isotopes and in highenergy collisions for instance when cosmic rays enter the atmosphere the antiparticle of the electron is called the positron it is identical to the electron except that it carries electrical and other charges of the opposite sign when an electron collides with a positron both particles can be annihilated producing gamma ray photons\n"
     ]
    },
    {
     "data": {
      "text/plain": [
       "'the electron is a subatomic particle symbol  e  or    whose electric charge is negative one elementary charge electrons belong to the first generation of the lepton particle family and are generally thought to be elementary particles because they have no known components or substructure the electron has a mass that is approximately  that of the proton quantum mechanical properties of the electron include an intrinsic angular momentum spin of a halfinteger value expressed in units of the reduced planck constant  being fermions no two electrons can occupy the same quantum state in accordance with the pauli exclusion principle like all elementary particles electrons exhibit properties of both particles and waves they can collide with other particles and can be diffracted like light the wave properties of electrons are easier to observe with experiments than those of other particles like neutrons and protons because electrons have a lower mass and hence a longer de broglie wavelength for a given energy  electrons play an essential role in numerous physical phenomena such as electricity magnetism chemistry and thermal conductivity and they also participate in gravitational electromagnetic and weak interactions since an electron has charge it has a surrounding electric field and if that electron is moving relative to an observer said observer will observe it to generate a magnetic field electromagnetic fields produced from other sources will affect the motion of an electron according to the lorentz force law electrons radiate or absorb energy in the form of photons when they are accelerated laboratory instruments are capable of trapping individual electrons as well as electron plasma by the use of electromagnetic fields special telescopes can detect electron plasma in outer space electrons are involved in many applications such as electronics welding cathode ray tubes electron microscopes radiation therapy lasers gaseous ionization detectors and particle accelerators  interactions involving electrons with other subatomic particles are of interest in fields such as chemistry and nuclear physics the coulomb force interaction between the positive protons within atomic nuclei and the negative electrons without allows the composition of the two known as atoms ionization or differences in the proportions of negative electrons versus positive nuclei changes the binding energy of an atomic system the exchange or sharing of the electrons between two or more atoms is the main cause of chemical bonding in  british natural philosopher richard laming first hypothesized the concept of an indivisible quantity of electric charge to explain the chemical properties of atoms irish physicist george johnstone stoney named this charge electron in  and j j thomson and his team of british physicists identified it as a particle in  electrons can also participate in nuclear reactions such as nucleosynthesis in stars where they are known as beta particles electrons can be created through beta decay of radioactive isotopes and in highenergy collisions for instance when cosmic rays enter the atmosphere the antiparticle of the electron is called the positron it is identical to the electron except that it carries electrical and other charges of the opposite sign when an electron collides with a positron both particles can be annihilated producing gamma ray photons'"
      ]
     },
     "execution_count": 23,
     "metadata": {},
     "output_type": "execute_result"
    }
   ],
   "source": [
    "alphabets = ['a','b','c','d','e','f','g','h','i','j','k','l','m','n','o','p','q','r','s','t','u','v','w','x','y','z',' ']\n",
    "raw_text = input()\n",
    "raw_text = raw_text.lower()\n",
    "raw_text = \"\".join(c for c in raw_text if c in alphabets)\n",
    "raw_text"
   ]
  },
  {
   "cell_type": "code",
   "execution_count": 24,
   "metadata": {},
   "outputs": [],
   "source": [
    "# of, to, in, it, is, be, as, at, so, we, he, by, or, on, do, if, me, my, up, an, go\n",
    "first_most = ['t','h']\n",
    "second_most = ['o','f']\n",
    "\n",
    "def make_two_key(first_most,second_most):\n",
    "    key = np.zeros(4).reshape(2,2)\n",
    "    key[0][0] = ord(first_most[0]) - ord('a')\n",
    "    key[0][1] = ord(first_most[1]) - ord('a')\n",
    "    key[1][0] = ord(second_most[0]) - ord('a')\n",
    "    key[1][1] = ord(second_most[1]) - ord('a')\n",
    "    return key.astype(int)\n",
    "\n",
    "def make_three_key(first_most,second_most,third_most):\n",
    "    key = np.zeros(9).reshape(3,3)\n",
    "    key[0][0] = ord(first_most[0]) - ord('a')\n",
    "    key[0][1] = ord(first_most[1]) - ord('a')\n",
    "    key[0][2] = ord(first_most[2]) - ord('a')\n",
    "    key[1][0] = ord(second_most[0]) - ord('a')\n",
    "    key[1][1] = ord(second_most[1]) - ord('a')\n",
    "    key[1][2] = ord(second_most[2]) - ord('a')\n",
    "    key[2][0] = ord(third_most[0]) - ord('a')\n",
    "    key[2][1] = ord(third_most[1]) - ord('a')\n",
    "    key[2][2] = ord(third_most[2]) - ord('a')\n",
    "    return key.astype(int)\n",
    "\n",
    "def most_common_digrams(cipher):\n",
    "    mdict = {}\n",
    "    input_text = list(cipher)\n",
    "    input_text = list(filter((' ').__ne__, input_text))\n",
    "    for i in range(0,len(input_text)-1,2):\n",
    "        s = input_text[i] + input_text[i+1]\n",
    "        if s not in mdict:\n",
    "            mdict[s] = 1\n",
    "        else:\n",
    "            mdict[s] +=1\n",
    "    sorted_x = sorted(mdict.items(), key=lambda kv: kv[1],reverse = True)\n",
    "    a = sorted_x[0][0]\n",
    "    b = sorted_x[1][0]\n",
    "    print(\"most common digrams in the cipher text are \")\n",
    "    print(a)\n",
    "    print(b)\n",
    "    return make_two_key(a,b)\n",
    "    \n",
    "def most_common_trigrams(cipher):\n",
    "    mdict = {}\n",
    "    input_text = list(cipher)\n",
    "    input_text = list(filter((' ').__ne__, input_text))\n",
    "    for i in range(0,len(input_text)-2,3):\n",
    "        s = input_text[i] + input_text[i+1] + input_text[i+2] \n",
    "        if s not in mdict:\n",
    "            mdict[s] = 1\n",
    "        else:\n",
    "            mdict[s] +=1\n",
    "    sorted_x = sorted(mdict.items(), key=lambda kv: kv[1],reverse = True)\n",
    "    a = sorted_x[0][0]\n",
    "    b = sorted_x[1][0]\n",
    "    c = sorted_x[2][0]\n",
    "    print(a)\n",
    "    print(b)\n",
    "    print(c)\n",
    "    return make_three_key(a,b,c)\n",
    "    "
   ]
  },
  {
   "cell_type": "code",
   "execution_count": 25,
   "metadata": {},
   "outputs": [
    {
     "name": "stdout",
     "output_type": "stream",
     "text": [
      "most common digrams in the cipher text are \n",
      "el\n",
      "th\n"
     ]
    },
    {
     "data": {
      "text/plain": [
       "array([[ 4, 11],\n",
       "       [19,  7]])"
      ]
     },
     "execution_count": 25,
     "metadata": {},
     "output_type": "execute_result"
    }
   ],
   "source": [
    "most_common_digrams(raw_text)"
   ]
  },
  {
   "cell_type": "code",
   "execution_count": 15,
   "metadata": {},
   "outputs": [],
   "source": [
    "# most_common_digrams(raw_cipher)"
   ]
  },
  {
   "cell_type": "code",
   "execution_count": 16,
   "metadata": {},
   "outputs": [],
   "source": [
    "def prepare_text(raw_text,n=2):\n",
    "    input_text = list(raw_text)\n",
    "    input_text = list(filter((' ').__ne__, input_text))\n",
    "    text = np.zeros(len(input_text))\n",
    "    for a in range(len(input_text)):\n",
    "        text[a] = ord(input_text[a]) - ord('a')\n",
    "    l = len(input_text)\n",
    "    if(l%n !=0 ):\n",
    "        a = np.ones(n-l%n)*25\n",
    "        text = np.append(text,a,axis = 0)\n",
    "    text = text.reshape(int(text.shape[0]/n),n)\n",
    "    return text.astype(int)"
   ]
  },
  {
   "cell_type": "code",
   "execution_count": 26,
   "metadata": {},
   "outputs": [
    {
     "name": "stdout",
     "output_type": "stream",
     "text": [
      "xfw iutxcady jg g owwjsvcal ezyalzgm oscmpu  t  vu    lgyaw iutxcity eylchi gt gcufkfqa qml ryuexkcpel nizyoa ryqwbnjwj mryjwh mb gkj epmbu zxkjifkkaq tl dkj utxpjw sfphagut gtcacj nao bwv oamlkxpjn sorqidv sv ih ryuexkcpel sfphagutj mqwiqse xfey ylgf qt zmkyg zgqilmlfxw mm bbelqsnxcxwp ukj ryqwbnjw ylg g eeik xffk wy tmrdneeofkryn  syls vl dkj rdbgjw wenakfo yqwylyjssb hadedphgsw ml dkj ryqwbnjw huzghqk ky jfxitcrag naksivu rgqxkkfg iqbq tg t ylxzhuonoav thokw bsrdmosem xi dyjet la xfj itcektc ztnawa iycrcpfx  ihhur gjicajwt gb ggw ryqwbnjwm sna ciaimt xfm okug cyyfxis lqfki ga nyevuobgzy mzed vkj sffmg sslqlecjw rdhuqoztr yyck kpj ryuexkcpel sfphaguts eutxcadcr bswhufv badedphgsw mj zbgr xzyalzgmo nac dlwmo xfey ssg zdkgraz omxf bgkjd jzyalzgmo nau nna ih mxvxkxxctc gryk grxsh zkj qqgf rdpijialmo la ryqwbnjwg gwv kkecji sv zcsevty mzek jfljieoxket xfna xfyaa qw zxfji sfphagutn uycx ksabnjwg gjf rdbgjwj mqwiqse ryqwbnjwb wlwk k ybcou rceg gjf kjgzk k ybsxji az vhoggry mlwryxkhmn pvu s kfqxk xkjiwq  ryqwbnjwz sivi im likxkalho adut hu idqcadac nvkmagho nvxkgqxkc eeky ls eutxcitqowd eepcpuwyk qkjcalqel nat lkjurho iyjfekalsdwd nat lkji ikzp izyalqosfon hu balwzefkkaanu tutxcadeepcpuag nac dkkk ifxjigmaljwi khueq na ryqwbnjw ylm sylchi gx fce c exwadlymxsx ryqwbnag epryo bjf jy xffk ryqwbnjw wy uksdsx wvivalgf sv na zcsevtji ggdm zcsevtji ompj zcsevti gh zo gxkjifkk k eepcpuag eprya zutxcadeepcpuag epryqf rdfoektc frgq bgkjm bemqjmo ompj pesrxc xfu ebgkaq tg tm lutxcada nyevumxsx sv xfr yvuxkzj wzqjr yoc ryqwbnjwf ejsuuon vu dgwmnd xkjiwq hu xfz ovuu kz forsvcr lgxk xfey zyk kyeryjifktc ivmpkxsvel hulqsnqcfxg gwv sssfdxa ql dkxlrhua yjffqdmyyu tutxcadcr ce copj ce ryqwbnjw ztceee qx xfs ase la ryqwbngqskmlalh wgsrni kedqoho onutmspimo ssj fpuqwo nutxcadt zivqay wq tdiji zsgmw iutxcadcr zyi gljdkgfm xk hnai ilrgrssaljwi keky ls eutxcadyjuw cornhui ofkoraz kxn sbemo ryqwbnjw carqyaiyedf ejsuualjw xfjitmp wcejiy qceaqac kayjeraljw azonxcvug gjf sfphagut gmequtkxsvmb  huonkxxckacr hukntrhuo autxcadcr omxf bgkjm bbefkgqag sfphagutg gwv la huonwvlq hu epryqf owni ce niuewybni ijf idzgkkd jszecuw xfq wemybhk wzqji gfxjigmaljw ihqrwif xkj ilecalgf rdbgjwu izewha nsvcaf sekutu ujf xfx kcufkfqw iutxcadcr omxfemc ppjkyl qkj iyxqyazekaq tl dkj qra eqtdq ce fkgqe cjwrofkkaq tt pjysrwvgzmo hu xfd wadilphkacr la mlccalgf ryqwbnjwr cjiowz syazefqx kekuta gylsxmo xfn qhumxsx xkjiwq la na fkgqag aulque xfw islylsxa qm bylitsx la xfw iutxcadcr ihqrwif xgw vu ukwv fkgqe cl qkj eehu ssaca qm fkjcassl bjwmxsx hu  vhzewyl lfkxwho nvbiyapikjj vagyltp ivcasx epmbx fbubgkjecqpt lkj iygzdws vg ty jjffqwyxaut wenaalwd la ryqwbnag nizyoa sv bsztywf xkj niueagho rdpijialmo la fkgqe citbw nvkmagwyu zaqchl mrmcrsvml lqjwey anqct lwhm sylchw iutxcady ja  njf r f xfgqwma njf whl qkku kj zitalbw nvkmagwyet dmxkaleptc ze ce t mzyalzgi gm  lutxcadcr ssa nkzp izyalqosfon hu idzgkkj vkkxckacr owni ce idzgaqaufxkjece cc rcpmb lgjip ukji iwv zmkya nj mput mzyalzgmo ryqwbnjwm sna ih rqkkont lxjemxs ihcp azssy of rjskagmalgf wybgpimo nam xv dmekjmlcho udkgrecjwv kvu hulqnaeq lgxk iyqaag kxkm xkonp hkj fkukzskjwv xfk kfxngzyalzga ql dkj ryqwbnjw wy sspjtc xfd wyazeady ja le cazfxagho sv xfw iutxcadm lsldwh zyla li bzyitmo ryqwbnagho nae hxfji nizyoaw ml dkj piilecon ecpc lgxk na ryqwbnjw iypjdmmo omxf t myazeadd tbgr xzyalzgmo ssd tk knnpkbifktc rdfoekhuu mkuee kxb uorsvcr\n"
     ]
    }
   ],
   "source": [
    "# key2 = most_common_digrams(raw_text)\n",
    "raw_cipher = input()"
   ]
  },
  {
   "cell_type": "code",
   "execution_count": 18,
   "metadata": {},
   "outputs": [],
   "source": [
    "def IC(text):\n",
    "    mdict = {}\n",
    "    l = 0\n",
    "    for a in text:\n",
    "        l+=1\n",
    "        if a not in mdict:\n",
    "            mdict[a] = 1\n",
    "        else:\n",
    "            mdict[a] +=1\n",
    "    s = 0\n",
    "    for a in mdict:\n",
    "        s += mdict[a]*(mdict[a]-1)\n",
    "    return (1.0*s)/(1.0*l*(l-1))"
   ]
  },
  {
   "cell_type": "code",
   "execution_count": 19,
   "metadata": {},
   "outputs": [],
   "source": [
    "# Most common bigrams (in order)\n",
    "# th, he, in, en, nt, re, er, an, ti, es, on, at, se, nd, or, ar, al, te, co, de, to, ra, et, ed, it, sa, em, ro.\n",
    "# Most common trigrams (in order)\n",
    "# the, and, tha, ent, ing, ion, tio, for, nde, has, nce, edt, tis, oft, sth, men\n",
    "\n",
    "# decrypt function for keysize = 2, argument \"raw_cipher\" is the cipher text.\n",
    "def decrypt_2(raw_cipher,n=2):       \n",
    "    a = \"el\"  # assumed most common di-gram \n",
    "    b = \"th\"  # assumed most common di-gram \n",
    "    C = most_common_digrams(raw_cipher).T    # make the matrix C\n",
    "    P = make_two_key(a,b).T                  # make the matrix P from a,b\n",
    "    \n",
    "    # prepare_text func. makes set of two from the cipher text\n",
    "    # for decrypting using the obtained key.\n",
    "    cipher = prepare_text(raw_cipher,2)    \n",
    "    \n",
    "    #following code computes the key, K using P and C\n",
    "    temp = Matrix(P)\n",
    "    Pinv = temp.inv_mod(26)    # P_inverse\n",
    "    key = np.mod(np.dot(C,Pinv),26).astype(int)  #finding the key, using K = C × P_inverse \n",
    "    print(\"encryption key is : \")\n",
    "    print(key)\n",
    "    tempkey = Matrix(key)\n",
    "    kinv = tempkey.inv_mod(26)\n",
    "    \n",
    "    # finding the decrypted text using the obtained key, K_inverse\n",
    "    # for every block of the text of size 2\n",
    "    dec = []\n",
    "    dec_text = \"\"\n",
    "    for a in range(len(cipher)):\n",
    "        b = np.dot(kinv,cipher[a])\n",
    "        for i in range(len(b)):\n",
    "            dec += [b[i]%26]\n",
    "            \n",
    "    # the following block of code is to put spaces at corresponding places.\n",
    "    ind = 0\n",
    "    for i in range(len(raw_cipher)):\n",
    "        if(raw_cipher[i]!=' '):\n",
    "            dec_text += chr(ord('a') + int(dec[ind])) \n",
    "            ind +=1\n",
    "        else:\n",
    "            dec_text += ' '\n",
    "            \n",
    "    print(\"IC of the decrypted text is : \",IC(dec_text))\n",
    "    return dec_text\n",
    "\n",
    "\n",
    "\n",
    "def decrypt_3(raw_cipher,n=3):\n",
    "    x = \"the\"\n",
    "    y = \"and\"\n",
    "    z = \"tha\"\n",
    "    C = most_common_trigrams(raw_cipher).T\n",
    "    P = make_three_key(x,y,z).T\n",
    "    cipher = prepare_text(raw_cipher,3)\n",
    "    temp = Matrix(P)\n",
    "    Pinv = temp.inv_mod(26)\n",
    "    key = np.mod(np.dot(C,Pinv),26).astype(int)\n",
    "    tempkey = Matrix(key)\n",
    "    print(\"encryption key is : \")\n",
    "    print(key)\n",
    "    kinv = tempkey.inv_mod(26)\n",
    "    dec = []\n",
    "    dec_text = \"\"\n",
    "    for a in range(len(cipher)):\n",
    "        b = np.dot(kinv,cipher[a])\n",
    "        for i in range(len(b)):\n",
    "            dec += [b[i]%26]\n",
    "#     print(dec)\n",
    "    ind = 0\n",
    "    for i in range(len(raw_cipher)):\n",
    "        if(raw_cipher[i]!=' '):\n",
    "            dec_text += chr(ord('a') + int(dec[ind])) \n",
    "            ind +=1\n",
    "        else:\n",
    "            dec_text += ' '\n",
    "    print(\"IC of the decrypted text is : \",IC(dec_text))\n",
    "    return dec_text\n",
    "\n"
   ]
  },
  {
   "cell_type": "code",
   "execution_count": 27,
   "metadata": {},
   "outputs": [
    {
     "name": "stdout",
     "output_type": "stream",
     "text": [
      "most common digrams in the cipher text are \n",
      "ry\n",
      "xf\n",
      "encryption key is : \n",
      "[[22  3]\n",
      " [ 9  6]]\n",
      "IC of the decrypted text is :  0.07404781703985008\n",
      "\n",
      "original text is: \n",
      "the electron is a subatomic particle symbol  e  or    whose electric charge is negative one elementary charge electrons belong to the first generation of the lepton particle family and are generally thought to be elementary particles because they have no known components or substructure the electron has a mass that is approximately  that of the proton quantum mechanical properties of the electron include an intrinsic angular momentum spin of a halfinteger value expressed in units of the reduced planck constant  being fermions no two electrons can occupy the same quantum state in accordance with the pauli exclusion principle like all elementary particles electrons exhibit properties of both particles and waves they can collide with other particles and can be diffracted like light the wave properties of electrons are easier to observe with experiments than those of other particles like neutrons and protons because electrons have a lower mass and hence a longer de broglie wavelength for a given energy  electrons play an essential role in numerous physical phenomena such as electricity magnetism chemistry and thermal conductivity and they also participate in gravitational electromagnetic and weak interactions since an electron has charge it has a surrounding electric field and if that electron is moving relative to an observer said observer will observe it to generate a magnetic field electromagnetic fields produced from other sources will affect the motion of an electron according to the lorentz force law electrons radiate or absorb energy in the form of photons when they are accelerated laboratory instruments are capable of trapping individual electrons as well as electron plasma by the use of electromagnetic fields special telescopes can detect electron plasma in outer space electrons are involved in many applications such as electronics welding cathode ray tubes electron microscopes radiation therapy lasers gaseous ionization detectors and particle accelerators  interactions involving electrons with other subatomic particles are of interest in fields such as chemistry and nuclear physics the coulomb force interaction between the positive protons within atomic nuclei and the negative electrons without allows the composition of the two known as atoms ionization or differences in the proportions of negative electrons versus positive nuclei changes the binding energy of an atomic system the exchange or sharing of the electrons between two or more atoms is the main cause of chemical bonding in  british natural philosopher richard laming first hypothesized the concept of an indivisible quantity of electric charge to explain the chemical properties of atoms irish physicist george johnstone stoney named this charge electron in  and j j thomson and his team of british physicists identified it as a particle in  electrons can also participate in nuclear reactions such as nucleosynthesis in stars where they are known as beta particles electrons can be created through beta decay of radioactive isotopes and in highenergy collisions for instance when cosmic rays enter the atmosphere the antiparticle of the electron is called the positron it is identical to the electron except that it carries electrical and other charges of the opposite sign when an electron collides with a positron both particles can be annihilated producing gamma ray photons\n"
     ]
    }
   ],
   "source": [
    "original_text = decrypt_2(raw_cipher,2)\n",
    "print()\n",
    "print(\"original text is: \")\n",
    "print(original_text)"
   ]
  },
  {
   "cell_type": "code",
   "execution_count": 92,
   "metadata": {},
   "outputs": [],
   "source": [
    "def IC(text):\n",
    "    mdict = {}\n",
    "    l = 0\n",
    "    for a in text:\n",
    "        l+=1\n",
    "        if a not in mdict:\n",
    "            mdict[a] = 1\n",
    "        else:\n",
    "            mdict[a] +=1\n",
    "    s = 0\n",
    "    for a in mdict:\n",
    "        s += mdict[a]*(mdict[a]-1)\n",
    "    return (1.0*s)/(1.0*l*(l-1))\n",
    "            "
   ]
  },
  {
   "cell_type": "code",
   "execution_count": 22,
   "metadata": {},
   "outputs": [
    {
     "data": {
      "text/plain": [
       "0.07404781703985008"
      ]
     },
     "execution_count": 22,
     "metadata": {},
     "output_type": "execute_result"
    }
   ],
   "source": [
    "IC(original_text)"
   ]
  },
  {
   "cell_type": "code",
   "execution_count": 21,
   "metadata": {},
   "outputs": [
    {
     "data": {
      "text/plain": [
       "'the electron is a subatomic particle symbol  e  or    whose electric charge is negative one elementary charge electrons belong to the first generation of the lepton particle family and are generally thought to be elementary particles because they have no known components or substructure the electron has a mass that is approximately  that of the proton quantum mechanical properties of the electron include an intrinsic angular momentum spin of a halfinteger value expressed in units of the reduced planck constant  being fermions no two electrons can occupy the same quantum state in accordance with the pauli exclusion principle like all elementary particles electrons exhibit properties of both particles and waves they can collide with other particles and can be diffracted like light the wave properties of electrons are easier to observe with experiments than those of other particles like neutrons and protons because electrons have a lower mass and hence a longer de broglie wavelength for a given energy  electrons play an essential role in numerous physical phenomena such as electricity magnetism chemistry and thermal conductivity and they also participate in gravitational electromagnetic and weak interactions since an electron has charge it has a surrounding electric field and if that electron is moving relative to an observer said observer will observe it to generate a magnetic field electromagnetic fields produced from other sources will affect the motion of an electron according to the lorentz force law electrons radiate or absorb energy in the form of photons when they are accelerated laboratory instruments are capable of trapping individual electrons as well as electron plasma by the use of electromagnetic fields special telescopes can detect electron plasma in outer space electrons are involved in many applications such as electronics welding cathode ray tubes electron microscopes radiation therapy lasers gaseous ionization detectors and particle accelerators  interactions involving electrons with other subatomic particles are of interest in fields such as chemistry and nuclear physics the coulomb force interaction between the positive protons within atomic nuclei and the negative electrons without allows the composition of the two known as atoms ionization or differences in the proportions of negative electrons versus positive nuclei changes the binding energy of an atomic system the exchange or sharing of the electrons between two or more atoms is the main cause of chemical bonding in  british natural philosopher richard laming first hypothesized the concept of an indivisible quantity of electric charge to explain the chemical properties of atoms irish physicist george johnstone stoney named this charge electron in  and j j thomson and his team of british physicists identified it as a particle in  electrons can also participate in nuclear reactions such as nucleosynthesis in stars where they are known as beta particles electrons can be created through beta decay of radioactive isotopes and in highenergy collisions for instance when cosmic rays enter the atmosphere the antiparticle of the electron is called the positron it is identical to the electron except that it carries electrical and other charges of the opposite sign when an electron collides with a positron both particles can be annihilated producing gamma ray photons'"
      ]
     },
     "execution_count": 21,
     "metadata": {},
     "output_type": "execute_result"
    }
   ],
   "source": [
    "original_text"
   ]
  },
  {
   "cell_type": "code",
   "execution_count": null,
   "metadata": {},
   "outputs": [],
   "source": []
  },
  {
   "cell_type": "code",
   "execution_count": 88,
   "metadata": {},
   "outputs": [
    {
     "name": "stdout",
     "output_type": "stream",
     "text": [
      " [[17  8]\n",
      " [ 4 13]]\n",
      "⎡13  10⎤\n",
      "⎢      ⎥\n",
      "⎣18  21⎦\n"
     ]
    },
    {
     "data": {
      "text/plain": [
       "array([[22, 3],\n",
       "       [9, 6]], dtype=object)"
      ]
     },
     "execution_count": 88,
     "metadata": {},
     "output_type": "execute_result"
    }
   ],
   "source": [
    "# p = make_two_key(\"re\",\"in\")\n",
    "# c = make_two_key(\"wv\",\"hu\")\n",
    "p = np.array([17,4,8,13]).reshape(2,2).T\n",
    "c = np.array([22,21,7,20]).reshape(2,2).T\n",
    "\n",
    "pprint(p)\n",
    "temp = Matrix(p)\n",
    "Pinv = temp.inv_mod(26)\n",
    "pprint(Pinv)\n",
    "np.mod(np.dot(c,Pinv),26)"
   ]
  },
  {
   "cell_type": "code",
   "execution_count": 36,
   "metadata": {},
   "outputs": [
    {
     "data": {
      "text/plain": [
       "array([[1, 0],\n",
       "       [0, 1]], dtype=object)"
      ]
     },
     "execution_count": 36,
     "metadata": {},
     "output_type": "execute_result"
    }
   ],
   "source": []
  },
  {
   "cell_type": "code",
   "execution_count": 85,
   "metadata": {},
   "outputs": [
    {
     "name": "stdout",
     "output_type": "stream",
     "text": [
      " [[2 5]\n",
      " [5 0]]\n",
      "c\n",
      "h\n"
     ]
    }
   ],
   "source": [
    "# a  = np.array([22,3,9,6]).reshape(2,2)\n",
    "a  = np.array([2,5,5,0]).reshape(2,2)\n",
    "\n",
    "# temp = Matrix(a)\n",
    "# k = temp.inv_mod(26)\n",
    "pprint(a)\n",
    "b = np.array([ord('r')-ord('a'),ord('e')-ord('a')]).astype(int)\n",
    "c = np.mod(np.dot(a,b),26)\n",
    "print(chr(c[0]+ord('a')))\n",
    "print(chr(c[1]+ord('a')))"
   ]
  },
  {
   "cell_type": "code",
   "execution_count": null,
   "metadata": {},
   "outputs": [],
   "source": []
  },
  {
   "cell_type": "code",
   "execution_count": null,
   "metadata": {},
   "outputs": [],
   "source": []
  }
 ],
 "metadata": {
  "kernelspec": {
   "display_name": "Python 3",
   "language": "python",
   "name": "python3"
  },
  "language_info": {
   "codemirror_mode": {
    "name": "ipython",
    "version": 3
   },
   "file_extension": ".py",
   "mimetype": "text/x-python",
   "name": "python",
   "nbconvert_exporter": "python",
   "pygments_lexer": "ipython3",
   "version": "3.7.6"
  }
 },
 "nbformat": 4,
 "nbformat_minor": 4
}
